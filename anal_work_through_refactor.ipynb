{
 "cells": [
  {
   "cell_type": "code",
   "execution_count": 1,
   "metadata": {
    "collapsed": true
   },
   "outputs": [],
   "source": [
    "import pandas as pd\n",
    "import numpy as np"
   ]
  },
  {
   "cell_type": "code",
   "execution_count": 2,
   "metadata": {},
   "outputs": [],
   "source": [
    "df = pd.read_csv('FRAMe/demo Untargeted_HILIC_UPLC addl info test.csv')"
   ]
  },
  {
   "cell_type": "code",
   "execution_count": 3,
   "metadata": {
    "collapsed": true
   },
   "outputs": [],
   "source": [
    "#Features where mean area in BLANKS contributes GREATER THAN X% of mean area in QC will be removed.\n",
    "# DEFAULT 5\n",
    "# Set to 100000 to effectively turn off.\n",
    "ThresholdBlankContribution = 5\n",
    "#Features where QC RSD is GREATER THAN X will be removed.\n",
    "# DEFAULT 20\n",
    "# Set to 100000 to effectively turn off.\n",
    "ThresholdQCrsd = 20\n",
    "#Features with detection frequency in QC samples LESSER THAN X% will be removed.\n",
    "# DEFAULT 60\n",
    "# Set to -1 to effectively turn off.\n",
    "ThresholdQCCountFrequency = 60\n",
    "#Features with detection frequency in SAMPLES LESSER THAN X% will be removed.\n",
    "# DEFAULT 80\n",
    "# Set to -1 to effectively turn off.\n",
    "ThresholdSAMPLECountFrequency = 80\n",
    "#Features in SAMPLEs with RSD ratios LESSER THAN X% of QC samples will be removed.\n",
    "# DEFAULT 120\n",
    "# Set to -1 to effectively turn off.\n",
    "ThresholdRSDratios = 120\n",
    "#Features in SAMPLES with median area values LESSER THAN these two LOQ multipliers will be removed.\n",
    "# DEFAULT LO 10\n",
    "# DEFAULT HI 50\n",
    "# Set to 0 to effectively turn off.\n",
    "LOQlo = 10\n",
    "LOQhi = 50\n",
    "#The first n QC samples will be removed for batch stability.\n",
    "LeadingQCSamples = 3\n",
    "#The name, if any, of a class set to combine as SAMPLES.\n",
    "combine_classes_on_text = \"Class\"\n",
    "#The text for a missing value indicator (software dependent).\n",
    "missing_indicator = np.nan\n",
    "#Informational columns ancillary to the features (e.g. m/z, RT, etc.) listed by column number\n",
    "# This can be any combination of column numbers:\n",
    "# set infoColumns <- NULL to ignore\n",
    "# set infoColumns <- c(2:5) to flag columns 2, 3, 4, and 5 as informational columns\n",
    "# set infoColumns <- c(2,4,6) to flag columns 2, 4, and 6 as informationnl columns\n",
    "infoColumns = ['Info','Info.1']"
   ]
  },
  {
   "cell_type": "code",
   "execution_count": 4,
   "metadata": {
    "collapsed": true
   },
   "outputs": [],
   "source": [
    "feature_info = df[infoColumns]"
   ]
  },
  {
   "cell_type": "code",
   "execution_count": 225,
   "metadata": {},
   "outputs": [
    {
     "data": {
      "text/plain": [
       "<module 'FRAMey' from 'FRAMey/__init__.pyc'>"
      ]
     },
     "execution_count": 225,
     "metadata": {},
     "output_type": "execute_result"
    }
   ],
   "source": [
    "import FRAMey\n",
    "reload(FRAMey)"
   ]
  },
  {
   "cell_type": "code",
   "execution_count": 229,
   "metadata": {
    "collapsed": true
   },
   "outputs": [],
   "source": [
    "metab_f = (\n",
    "    df.drop(infoColumns, axis=1)\n",
    "    .pipe(FRAMey._parse_input_flat)\n",
    "    .pipe(FRAMey._drop_leading_QC, 3)\n",
    ")\n",
    "\n",
    "f = FRAMey.FRAMe(metab_f)"
   ]
  },
  {
   "cell_type": "code",
   "execution_count": 7,
   "metadata": {
    "collapsed": true
   },
   "outputs": [],
   "source": [
    "f = FRAMey.FRAMe.from_input_csv('./FRAMe/demo Untargeted_HILIC_UPLC addl info test.csv', info_columns=infoColumns)"
   ]
  },
  {
   "cell_type": "code",
   "execution_count": 292,
   "metadata": {},
   "outputs": [],
   "source": [
    "class tmp(object):\n",
    "    def __init__(self, thresh):\n",
    "        self._cache = {}\n",
    "        self.thresh = thresh\n",
    "        \n",
    "    @property\n",
    "    def thresh(self):\n",
    "        return self._thresh\n",
    "    \n",
    "    @thresh.setter\n",
    "    @FRAMey.cached_clear()\n",
    "    def thresh(self, value):\n",
    "        self._thresh = value\n",
    "    \n",
    "    "
   ]
  },
  {
   "cell_type": "code",
   "execution_count": 294,
   "metadata": {},
   "outputs": [],
   "source": [
    "a = tmp({'a':1,'b':2})"
   ]
  },
  {
   "cell_type": "code",
   "execution_count": 296,
   "metadata": {},
   "outputs": [],
   "source": [
    "a._cache['a'] = 0"
   ]
  },
  {
   "cell_type": "code",
   "execution_count": 297,
   "metadata": {},
   "outputs": [
    {
     "data": {
      "text/plain": [
       "{'a': 0}"
      ]
     },
     "execution_count": 297,
     "metadata": {},
     "output_type": "execute_result"
    }
   ],
   "source": [
    "a._cache"
   ]
  },
  {
   "cell_type": "code",
   "execution_count": 301,
   "metadata": {},
   "outputs": [],
   "source": [
    "a.thresh['b'] = 3"
   ]
  },
  {
   "cell_type": "code",
   "execution_count": 302,
   "metadata": {},
   "outputs": [
    {
     "data": {
      "text/plain": [
       "{'a': 1, 'b': 3}"
      ]
     },
     "execution_count": 302,
     "metadata": {},
     "output_type": "execute_result"
    }
   ],
   "source": [
    "a.thresh"
   ]
  },
  {
   "cell_type": "code",
   "execution_count": 303,
   "metadata": {},
   "outputs": [
    {
     "data": {
      "text/plain": [
       "{'a': 0}"
      ]
     },
     "execution_count": 303,
     "metadata": {},
     "output_type": "execute_result"
    }
   ],
   "source": [
    "a._cache"
   ]
  },
  {
   "cell_type": "code",
   "execution_count": 304,
   "metadata": {
    "collapsed": true
   },
   "outputs": [],
   "source": [
    "a.thresh = {'a':-1,'b':-2}"
   ]
  },
  {
   "cell_type": "code",
   "execution_count": 305,
   "metadata": {},
   "outputs": [
    {
     "data": {
      "text/plain": [
       "{}"
      ]
     },
     "execution_count": 305,
     "metadata": {},
     "output_type": "execute_result"
    }
   ],
   "source": [
    "a._cache"
   ]
  },
  {
   "cell_type": "code",
   "execution_count": 8,
   "metadata": {},
   "outputs": [
    {
     "data": {
      "text/html": [
       "<div>\n",
       "<style>\n",
       "    .dataframe thead tr:only-child th {\n",
       "        text-align: right;\n",
       "    }\n",
       "\n",
       "    .dataframe thead th {\n",
       "        text-align: left;\n",
       "    }\n",
       "\n",
       "    .dataframe tbody tr th {\n",
       "        vertical-align: top;\n",
       "    }\n",
       "</style>\n",
       "<table border=\"1\" class=\"dataframe\">\n",
       "  <thead>\n",
       "    <tr style=\"text-align: right;\">\n",
       "      <th></th>\n",
       "      <th></th>\n",
       "      <th>mean</th>\n",
       "      <th>median</th>\n",
       "      <th>std</th>\n",
       "      <th>rsd</th>\n",
       "    </tr>\n",
       "    <tr>\n",
       "      <th>Class</th>\n",
       "      <th>Feature</th>\n",
       "      <th></th>\n",
       "      <th></th>\n",
       "      <th></th>\n",
       "      <th></th>\n",
       "    </tr>\n",
       "  </thead>\n",
       "  <tbody>\n",
       "    <tr>\n",
       "      <th rowspan=\"2\" valign=\"top\">Blank</th>\n",
       "      <th>1000</th>\n",
       "      <td>1.345439e+07</td>\n",
       "      <td>13454393.0</td>\n",
       "      <td>5.560094e+05</td>\n",
       "      <td>4.132549</td>\n",
       "    </tr>\n",
       "    <tr>\n",
       "      <th>1003</th>\n",
       "      <td>4.735801e+06</td>\n",
       "      <td>4735801.0</td>\n",
       "      <td>2.760157e+06</td>\n",
       "      <td>58.282799</td>\n",
       "    </tr>\n",
       "    <tr>\n",
       "      <th rowspan=\"2\" valign=\"top\">Class 1</th>\n",
       "      <th>1000</th>\n",
       "      <td>1.314206e+07</td>\n",
       "      <td>13098822.0</td>\n",
       "      <td>4.812065e+06</td>\n",
       "      <td>36.615765</td>\n",
       "    </tr>\n",
       "    <tr>\n",
       "      <th>1003</th>\n",
       "      <td>4.370998e+06</td>\n",
       "      <td>3266569.5</td>\n",
       "      <td>2.049823e+06</td>\n",
       "      <td>46.895980</td>\n",
       "    </tr>\n",
       "    <tr>\n",
       "      <th rowspan=\"2\" valign=\"top\">Class 2</th>\n",
       "      <th>1000</th>\n",
       "      <td>1.163270e+07</td>\n",
       "      <td>10290140.5</td>\n",
       "      <td>3.858743e+06</td>\n",
       "      <td>33.171520</td>\n",
       "    </tr>\n",
       "    <tr>\n",
       "      <th>1003</th>\n",
       "      <td>3.393863e+06</td>\n",
       "      <td>3200889.0</td>\n",
       "      <td>1.074540e+06</td>\n",
       "      <td>31.661271</td>\n",
       "    </tr>\n",
       "    <tr>\n",
       "      <th rowspan=\"2\" valign=\"top\">Class 3</th>\n",
       "      <th>1000</th>\n",
       "      <td>1.755764e+07</td>\n",
       "      <td>18714306.5</td>\n",
       "      <td>5.753421e+06</td>\n",
       "      <td>32.768758</td>\n",
       "    </tr>\n",
       "    <tr>\n",
       "      <th>1003</th>\n",
       "      <td>3.430482e+06</td>\n",
       "      <td>3690159.5</td>\n",
       "      <td>4.875031e+05</td>\n",
       "      <td>14.210921</td>\n",
       "    </tr>\n",
       "    <tr>\n",
       "      <th rowspan=\"2\" valign=\"top\">Class 4</th>\n",
       "      <th>1000</th>\n",
       "      <td>1.377918e+07</td>\n",
       "      <td>14344565.0</td>\n",
       "      <td>3.185279e+06</td>\n",
       "      <td>23.116611</td>\n",
       "    </tr>\n",
       "    <tr>\n",
       "      <th>1003</th>\n",
       "      <td>2.901464e+06</td>\n",
       "      <td>2485065.0</td>\n",
       "      <td>1.103777e+06</td>\n",
       "      <td>38.042062</td>\n",
       "    </tr>\n",
       "    <tr>\n",
       "      <th rowspan=\"2\" valign=\"top\">QC</th>\n",
       "      <th>1000</th>\n",
       "      <td>8.365673e+06</td>\n",
       "      <td>8640202.5</td>\n",
       "      <td>8.187659e+05</td>\n",
       "      <td>9.787210</td>\n",
       "    </tr>\n",
       "    <tr>\n",
       "      <th>1003</th>\n",
       "      <td>3.670849e+06</td>\n",
       "      <td>3550286.5</td>\n",
       "      <td>3.910364e+05</td>\n",
       "      <td>10.652479</td>\n",
       "    </tr>\n",
       "  </tbody>\n",
       "</table>\n",
       "</div>"
      ],
      "text/plain": [
       "                         mean      median           std        rsd\n",
       "Class   Feature                                                   \n",
       "Blank   1000     1.345439e+07  13454393.0  5.560094e+05   4.132549\n",
       "        1003     4.735801e+06   4735801.0  2.760157e+06  58.282799\n",
       "Class 1 1000     1.314206e+07  13098822.0  4.812065e+06  36.615765\n",
       "        1003     4.370998e+06   3266569.5  2.049823e+06  46.895980\n",
       "Class 2 1000     1.163270e+07  10290140.5  3.858743e+06  33.171520\n",
       "        1003     3.393863e+06   3200889.0  1.074540e+06  31.661271\n",
       "Class 3 1000     1.755764e+07  18714306.5  5.753421e+06  32.768758\n",
       "        1003     3.430482e+06   3690159.5  4.875031e+05  14.210921\n",
       "Class 4 1000     1.377918e+07  14344565.0  3.185279e+06  23.116611\n",
       "        1003     2.901464e+06   2485065.0  1.103777e+06  38.042062\n",
       "QC      1000     8.365673e+06   8640202.5  8.187659e+05   9.787210\n",
       "        1003     3.670849e+06   3550286.5  3.910364e+05  10.652479"
      ]
     },
     "execution_count": 8,
     "metadata": {},
     "output_type": "execute_result"
    }
   ],
   "source": [
    "f.summary_class_feature.dropna().query('Feature in [1000, 1003]')"
   ]
  },
  {
   "cell_type": "code",
   "execution_count": 238,
   "metadata": {},
   "outputs": [
    {
     "data": {
      "text/html": [
       "<div>\n",
       "<style>\n",
       "    .dataframe thead tr:only-child th {\n",
       "        text-align: right;\n",
       "    }\n",
       "\n",
       "    .dataframe thead th {\n",
       "        text-align: left;\n",
       "    }\n",
       "\n",
       "    .dataframe tbody tr th {\n",
       "        vertical-align: top;\n",
       "    }\n",
       "</style>\n",
       "<table border=\"1\" class=\"dataframe\">\n",
       "  <thead>\n",
       "    <tr style=\"text-align: right;\">\n",
       "      <th>Class</th>\n",
       "      <th>Blank</th>\n",
       "      <th>QC</th>\n",
       "      <th>percent</th>\n",
       "    </tr>\n",
       "    <tr>\n",
       "      <th>Feature</th>\n",
       "      <th></th>\n",
       "      <th></th>\n",
       "      <th></th>\n",
       "    </tr>\n",
       "  </thead>\n",
       "  <tbody>\n",
       "    <tr>\n",
       "      <th>7</th>\n",
       "      <td>1362661.0</td>\n",
       "      <td>5.995866e+05</td>\n",
       "      <td>227.266744</td>\n",
       "    </tr>\n",
       "    <tr>\n",
       "      <th>8</th>\n",
       "      <td>1943053.5</td>\n",
       "      <td>2.042999e+06</td>\n",
       "      <td>95.107920</td>\n",
       "    </tr>\n",
       "    <tr>\n",
       "      <th>15</th>\n",
       "      <td>1696977.0</td>\n",
       "      <td>7.539130e+05</td>\n",
       "      <td>225.089234</td>\n",
       "    </tr>\n",
       "    <tr>\n",
       "      <th>16</th>\n",
       "      <td>2109665.0</td>\n",
       "      <td>4.918389e+05</td>\n",
       "      <td>428.934171</td>\n",
       "    </tr>\n",
       "    <tr>\n",
       "      <th>19</th>\n",
       "      <td>2188004.0</td>\n",
       "      <td>1.437095e+07</td>\n",
       "      <td>15.225190</td>\n",
       "    </tr>\n",
       "  </tbody>\n",
       "</table>\n",
       "</div>"
      ],
      "text/plain": [
       "Class        Blank            QC     percent\n",
       "Feature                                     \n",
       "7        1362661.0  5.995866e+05  227.266744\n",
       "8        1943053.5  2.042999e+06   95.107920\n",
       "15       1696977.0  7.539130e+05  225.089234\n",
       "16       2109665.0  4.918389e+05  428.934171\n",
       "19       2188004.0  1.437095e+07   15.225190"
      ]
     },
     "execution_count": 238,
     "metadata": {},
     "output_type": "execute_result"
    }
   ],
   "source": [
    "f._remove_blank_contribution.head()"
   ]
  },
  {
   "cell_type": "code",
   "execution_count": 239,
   "metadata": {},
   "outputs": [
    {
     "data": {
      "text/plain": [
       "(1601, 3)"
      ]
     },
     "execution_count": 239,
     "metadata": {},
     "output_type": "execute_result"
    }
   ],
   "source": [
    "f._remove_blank_contribution.shape"
   ]
  },
  {
   "cell_type": "markdown",
   "metadata": {},
   "source": [
    "# QC/Bio RSD Ratio"
   ]
  },
  {
   "cell_type": "code",
   "execution_count": 240,
   "metadata": {},
   "outputs": [
    {
     "data": {
      "text/html": [
       "<div>\n",
       "<style>\n",
       "    .dataframe thead tr:only-child th {\n",
       "        text-align: right;\n",
       "    }\n",
       "\n",
       "    .dataframe thead th {\n",
       "        text-align: left;\n",
       "    }\n",
       "\n",
       "    .dataframe tbody tr th {\n",
       "        vertical-align: top;\n",
       "    }\n",
       "</style>\n",
       "<table border=\"1\" class=\"dataframe\">\n",
       "  <thead>\n",
       "    <tr style=\"text-align: right;\">\n",
       "      <th></th>\n",
       "      <th></th>\n",
       "      <th>mean</th>\n",
       "      <th>median</th>\n",
       "      <th>std</th>\n",
       "      <th>rsd</th>\n",
       "    </tr>\n",
       "    <tr>\n",
       "      <th>Group</th>\n",
       "      <th>Feature</th>\n",
       "      <th></th>\n",
       "      <th></th>\n",
       "      <th></th>\n",
       "      <th></th>\n",
       "    </tr>\n",
       "  </thead>\n",
       "  <tbody>\n",
       "    <tr>\n",
       "      <th rowspan=\"5\" valign=\"top\">Blank</th>\n",
       "      <th>7</th>\n",
       "      <td>1362661.0</td>\n",
       "      <td>1362661.0</td>\n",
       "      <td>5.603114e+04</td>\n",
       "      <td>4.111891</td>\n",
       "    </tr>\n",
       "    <tr>\n",
       "      <th>8</th>\n",
       "      <td>1943053.5</td>\n",
       "      <td>1943053.5</td>\n",
       "      <td>7.376043e+04</td>\n",
       "      <td>3.796109</td>\n",
       "    </tr>\n",
       "    <tr>\n",
       "      <th>15</th>\n",
       "      <td>1696977.0</td>\n",
       "      <td>1696977.0</td>\n",
       "      <td>3.354090e+04</td>\n",
       "      <td>1.976509</td>\n",
       "    </tr>\n",
       "    <tr>\n",
       "      <th>16</th>\n",
       "      <td>2109665.0</td>\n",
       "      <td>2109665.0</td>\n",
       "      <td>2.409792e+05</td>\n",
       "      <td>11.422627</td>\n",
       "    </tr>\n",
       "    <tr>\n",
       "      <th>20</th>\n",
       "      <td>37179861.0</td>\n",
       "      <td>37179861.0</td>\n",
       "      <td>2.894587e+06</td>\n",
       "      <td>7.785362</td>\n",
       "    </tr>\n",
       "  </tbody>\n",
       "</table>\n",
       "</div>"
      ],
      "text/plain": [
       "                     mean      median           std        rsd\n",
       "Group Feature                                                 \n",
       "Blank 7         1362661.0   1362661.0  5.603114e+04   4.111891\n",
       "      8         1943053.5   1943053.5  7.376043e+04   3.796109\n",
       "      15        1696977.0   1696977.0  3.354090e+04   1.976509\n",
       "      16        2109665.0   2109665.0  2.409792e+05  11.422627\n",
       "      20       37179861.0  37179861.0  2.894587e+06   7.785362"
      ]
     },
     "execution_count": 240,
     "metadata": {},
     "output_type": "execute_result"
    }
   ],
   "source": [
    "f.summary_group_feature.dropna().head()"
   ]
  },
  {
   "cell_type": "code",
   "execution_count": 241,
   "metadata": {},
   "outputs": [
    {
     "data": {
      "text/html": [
       "<div>\n",
       "<style>\n",
       "    .dataframe thead tr:only-child th {\n",
       "        text-align: right;\n",
       "    }\n",
       "\n",
       "    .dataframe thead th {\n",
       "        text-align: left;\n",
       "    }\n",
       "\n",
       "    .dataframe tbody tr th {\n",
       "        vertical-align: top;\n",
       "    }\n",
       "</style>\n",
       "<table border=\"1\" class=\"dataframe\">\n",
       "  <thead>\n",
       "    <tr style=\"text-align: right;\">\n",
       "      <th>Group</th>\n",
       "      <th>QC</th>\n",
       "      <th>Sample</th>\n",
       "      <th>percent</th>\n",
       "    </tr>\n",
       "    <tr>\n",
       "      <th>Feature</th>\n",
       "      <th></th>\n",
       "      <th></th>\n",
       "      <th></th>\n",
       "    </tr>\n",
       "  </thead>\n",
       "  <tbody>\n",
       "    <tr>\n",
       "      <th>1</th>\n",
       "      <td>4.607108</td>\n",
       "      <td>165.743121</td>\n",
       "      <td>3597.552558</td>\n",
       "    </tr>\n",
       "    <tr>\n",
       "      <th>2</th>\n",
       "      <td>45.781614</td>\n",
       "      <td>33.058983</td>\n",
       "      <td>72.210174</td>\n",
       "    </tr>\n",
       "    <tr>\n",
       "      <th>3</th>\n",
       "      <td>4.201895</td>\n",
       "      <td>26.085562</td>\n",
       "      <td>620.804742</td>\n",
       "    </tr>\n",
       "    <tr>\n",
       "      <th>4</th>\n",
       "      <td>8.561428</td>\n",
       "      <td>52.899001</td>\n",
       "      <td>617.875880</td>\n",
       "    </tr>\n",
       "    <tr>\n",
       "      <th>5</th>\n",
       "      <td>27.689211</td>\n",
       "      <td>55.631855</td>\n",
       "      <td>200.915280</td>\n",
       "    </tr>\n",
       "  </tbody>\n",
       "</table>\n",
       "</div>"
      ],
      "text/plain": [
       "Group           QC      Sample      percent\n",
       "Feature                                    \n",
       "1         4.607108  165.743121  3597.552558\n",
       "2        45.781614   33.058983    72.210174\n",
       "3         4.201895   26.085562   620.804742\n",
       "4         8.561428   52.899001   617.875880\n",
       "5        27.689211   55.631855   200.915280"
      ]
     },
     "execution_count": 241,
     "metadata": {},
     "output_type": "execute_result"
    }
   ],
   "source": [
    "f._low_variability.head()"
   ]
  },
  {
   "cell_type": "code",
   "execution_count": 242,
   "metadata": {},
   "outputs": [
    {
     "data": {
      "text/plain": [
       "Group\n",
       "QC         21.337540\n",
       "Sample     17.566347\n",
       "percent    82.326016\n",
       "Name: 10, dtype: float64"
      ]
     },
     "execution_count": 242,
     "metadata": {},
     "output_type": "execute_result"
    }
   ],
   "source": [
    "f._remove_low_variability.loc[10]"
   ]
  },
  {
   "cell_type": "code",
   "execution_count": 243,
   "metadata": {},
   "outputs": [
    {
     "data": {
      "text/plain": [
       "(373, 3)"
      ]
     },
     "execution_count": 243,
     "metadata": {},
     "output_type": "execute_result"
    }
   ],
   "source": [
    "f._remove_low_variability.shape"
   ]
  },
  {
   "cell_type": "markdown",
   "metadata": {},
   "source": [
    "# Sample Detection frequency"
   ]
  },
  {
   "cell_type": "code",
   "execution_count": 244,
   "metadata": {
    "collapsed": true
   },
   "outputs": [],
   "source": [
    "reload(FRAMey)\n",
    "f = FRAMey.FRAMe(metab_f)"
   ]
  },
  {
   "cell_type": "code",
   "execution_count": 245,
   "metadata": {},
   "outputs": [
    {
     "data": {
      "text/html": [
       "<div>\n",
       "<style>\n",
       "    .dataframe thead tr:only-child th {\n",
       "        text-align: right;\n",
       "    }\n",
       "\n",
       "    .dataframe thead th {\n",
       "        text-align: left;\n",
       "    }\n",
       "\n",
       "    .dataframe tbody tr th {\n",
       "        vertical-align: top;\n",
       "    }\n",
       "</style>\n",
       "<table border=\"1\" class=\"dataframe\">\n",
       "  <thead>\n",
       "    <tr style=\"text-align: right;\">\n",
       "      <th></th>\n",
       "      <th>count_mean</th>\n",
       "      <th>count_freq</th>\n",
       "    </tr>\n",
       "    <tr>\n",
       "      <th>Feature</th>\n",
       "      <th></th>\n",
       "      <th></th>\n",
       "    </tr>\n",
       "  </thead>\n",
       "  <tbody>\n",
       "    <tr>\n",
       "      <th>1</th>\n",
       "      <td>0.416667</td>\n",
       "      <td>41.666667</td>\n",
       "    </tr>\n",
       "    <tr>\n",
       "      <th>2</th>\n",
       "      <td>0.666667</td>\n",
       "      <td>66.666667</td>\n",
       "    </tr>\n",
       "    <tr>\n",
       "      <th>3</th>\n",
       "      <td>1.000000</td>\n",
       "      <td>100.000000</td>\n",
       "    </tr>\n",
       "    <tr>\n",
       "      <th>4</th>\n",
       "      <td>0.958333</td>\n",
       "      <td>95.833333</td>\n",
       "    </tr>\n",
       "    <tr>\n",
       "      <th>5</th>\n",
       "      <td>0.958333</td>\n",
       "      <td>95.833333</td>\n",
       "    </tr>\n",
       "  </tbody>\n",
       "</table>\n",
       "</div>"
      ],
      "text/plain": [
       "         count_mean  count_freq\n",
       "Feature                        \n",
       "1          0.416667   41.666667\n",
       "2          0.666667   66.666667\n",
       "3          1.000000  100.000000\n",
       "4          0.958333   95.833333\n",
       "5          0.958333   95.833333"
      ]
     },
     "execution_count": 245,
     "metadata": {},
     "output_type": "execute_result"
    }
   ],
   "source": [
    "f._sample_count.head()"
   ]
  },
  {
   "cell_type": "code",
   "execution_count": 246,
   "metadata": {},
   "outputs": [
    {
     "data": {
      "text/html": [
       "<div>\n",
       "<style>\n",
       "    .dataframe thead tr:only-child th {\n",
       "        text-align: right;\n",
       "    }\n",
       "\n",
       "    .dataframe thead th {\n",
       "        text-align: left;\n",
       "    }\n",
       "\n",
       "    .dataframe tbody tr th {\n",
       "        vertical-align: top;\n",
       "    }\n",
       "</style>\n",
       "<table border=\"1\" class=\"dataframe\">\n",
       "  <thead>\n",
       "    <tr style=\"text-align: right;\">\n",
       "      <th></th>\n",
       "      <th>count_mean</th>\n",
       "      <th>count_freq</th>\n",
       "    </tr>\n",
       "    <tr>\n",
       "      <th>Feature</th>\n",
       "      <th></th>\n",
       "      <th></th>\n",
       "    </tr>\n",
       "  </thead>\n",
       "  <tbody>\n",
       "    <tr>\n",
       "      <th>1</th>\n",
       "      <td>0.416667</td>\n",
       "      <td>41.666667</td>\n",
       "    </tr>\n",
       "    <tr>\n",
       "      <th>2</th>\n",
       "      <td>0.666667</td>\n",
       "      <td>66.666667</td>\n",
       "    </tr>\n",
       "    <tr>\n",
       "      <th>25</th>\n",
       "      <td>0.750000</td>\n",
       "      <td>75.000000</td>\n",
       "    </tr>\n",
       "    <tr>\n",
       "      <th>31</th>\n",
       "      <td>0.708333</td>\n",
       "      <td>70.833333</td>\n",
       "    </tr>\n",
       "    <tr>\n",
       "      <th>38</th>\n",
       "      <td>0.333333</td>\n",
       "      <td>33.333333</td>\n",
       "    </tr>\n",
       "  </tbody>\n",
       "</table>\n",
       "</div>"
      ],
      "text/plain": [
       "         count_mean  count_freq\n",
       "Feature                        \n",
       "1          0.416667   41.666667\n",
       "2          0.666667   66.666667\n",
       "25         0.750000   75.000000\n",
       "31         0.708333   70.833333\n",
       "38         0.333333   33.333333"
      ]
     },
     "execution_count": 246,
     "metadata": {},
     "output_type": "execute_result"
    }
   ],
   "source": [
    "f._remove_sample_count.head()"
   ]
  },
  {
   "cell_type": "markdown",
   "metadata": {},
   "source": [
    "# QC count freq"
   ]
  },
  {
   "cell_type": "code",
   "execution_count": 247,
   "metadata": {
    "collapsed": true
   },
   "outputs": [],
   "source": [
    "reload(FRAMey)\n",
    "f = FRAMey.FRAMe(metab_f)"
   ]
  },
  {
   "cell_type": "code",
   "execution_count": 248,
   "metadata": {},
   "outputs": [
    {
     "data": {
      "text/html": [
       "<div>\n",
       "<style>\n",
       "    .dataframe thead tr:only-child th {\n",
       "        text-align: right;\n",
       "    }\n",
       "\n",
       "    .dataframe thead th {\n",
       "        text-align: left;\n",
       "    }\n",
       "\n",
       "    .dataframe tbody tr th {\n",
       "        vertical-align: top;\n",
       "    }\n",
       "</style>\n",
       "<table border=\"1\" class=\"dataframe\">\n",
       "  <thead>\n",
       "    <tr style=\"text-align: right;\">\n",
       "      <th></th>\n",
       "      <th>count_mean</th>\n",
       "      <th>count_freq</th>\n",
       "    </tr>\n",
       "    <tr>\n",
       "      <th>Feature</th>\n",
       "      <th></th>\n",
       "      <th></th>\n",
       "    </tr>\n",
       "  </thead>\n",
       "  <tbody>\n",
       "    <tr>\n",
       "      <th>1</th>\n",
       "      <td>1.000</td>\n",
       "      <td>100.0</td>\n",
       "    </tr>\n",
       "    <tr>\n",
       "      <th>2</th>\n",
       "      <td>0.875</td>\n",
       "      <td>87.5</td>\n",
       "    </tr>\n",
       "    <tr>\n",
       "      <th>3</th>\n",
       "      <td>1.000</td>\n",
       "      <td>100.0</td>\n",
       "    </tr>\n",
       "    <tr>\n",
       "      <th>4</th>\n",
       "      <td>1.000</td>\n",
       "      <td>100.0</td>\n",
       "    </tr>\n",
       "    <tr>\n",
       "      <th>5</th>\n",
       "      <td>1.000</td>\n",
       "      <td>100.0</td>\n",
       "    </tr>\n",
       "  </tbody>\n",
       "</table>\n",
       "</div>"
      ],
      "text/plain": [
       "         count_mean  count_freq\n",
       "Feature                        \n",
       "1             1.000       100.0\n",
       "2             0.875        87.5\n",
       "3             1.000       100.0\n",
       "4             1.000       100.0\n",
       "5             1.000       100.0"
      ]
     },
     "execution_count": 248,
     "metadata": {},
     "output_type": "execute_result"
    }
   ],
   "source": [
    "f._qc_count.head()"
   ]
  },
  {
   "cell_type": "code",
   "execution_count": 249,
   "metadata": {},
   "outputs": [
    {
     "data": {
      "text/plain": [
       "(7383, 2)"
      ]
     },
     "execution_count": 249,
     "metadata": {},
     "output_type": "execute_result"
    }
   ],
   "source": [
    "f._qc_count.shape"
   ]
  },
  {
   "cell_type": "code",
   "execution_count": 250,
   "metadata": {},
   "outputs": [
    {
     "data": {
      "text/html": [
       "<div>\n",
       "<style>\n",
       "    .dataframe thead tr:only-child th {\n",
       "        text-align: right;\n",
       "    }\n",
       "\n",
       "    .dataframe thead th {\n",
       "        text-align: left;\n",
       "    }\n",
       "\n",
       "    .dataframe tbody tr th {\n",
       "        vertical-align: top;\n",
       "    }\n",
       "</style>\n",
       "<table border=\"1\" class=\"dataframe\">\n",
       "  <thead>\n",
       "    <tr style=\"text-align: right;\">\n",
       "      <th></th>\n",
       "      <th>count_mean</th>\n",
       "      <th>count_freq</th>\n",
       "    </tr>\n",
       "    <tr>\n",
       "      <th>Feature</th>\n",
       "      <th></th>\n",
       "      <th></th>\n",
       "    </tr>\n",
       "  </thead>\n",
       "  <tbody>\n",
       "    <tr>\n",
       "      <th>138</th>\n",
       "      <td>0.500</td>\n",
       "      <td>50.0</td>\n",
       "    </tr>\n",
       "    <tr>\n",
       "      <th>158</th>\n",
       "      <td>0.250</td>\n",
       "      <td>25.0</td>\n",
       "    </tr>\n",
       "    <tr>\n",
       "      <th>168</th>\n",
       "      <td>0.250</td>\n",
       "      <td>25.0</td>\n",
       "    </tr>\n",
       "    <tr>\n",
       "      <th>191</th>\n",
       "      <td>0.000</td>\n",
       "      <td>0.0</td>\n",
       "    </tr>\n",
       "    <tr>\n",
       "      <th>228</th>\n",
       "      <td>0.375</td>\n",
       "      <td>37.5</td>\n",
       "    </tr>\n",
       "  </tbody>\n",
       "</table>\n",
       "</div>"
      ],
      "text/plain": [
       "         count_mean  count_freq\n",
       "Feature                        \n",
       "138           0.500        50.0\n",
       "158           0.250        25.0\n",
       "168           0.250        25.0\n",
       "191           0.000         0.0\n",
       "228           0.375        37.5"
      ]
     },
     "execution_count": 250,
     "metadata": {},
     "output_type": "execute_result"
    }
   ],
   "source": [
    "f._remove_qc_count.head()"
   ]
  },
  {
   "cell_type": "code",
   "execution_count": 251,
   "metadata": {},
   "outputs": [
    {
     "data": {
      "text/plain": [
       "(400, 2)"
      ]
     },
     "execution_count": 251,
     "metadata": {},
     "output_type": "execute_result"
    }
   ],
   "source": [
    "f._remove_qc_count.shape"
   ]
  },
  {
   "cell_type": "markdown",
   "metadata": {},
   "source": [
    "# QC reproducibility"
   ]
  },
  {
   "cell_type": "code",
   "execution_count": 252,
   "metadata": {
    "collapsed": true
   },
   "outputs": [],
   "source": [
    "reload(FRAMey)\n",
    "f = FRAMey.FRAMe(metab_f)"
   ]
  },
  {
   "cell_type": "code",
   "execution_count": 253,
   "metadata": {},
   "outputs": [
    {
     "data": {
      "text/plain": [
       "(1592, 1)"
      ]
     },
     "execution_count": 253,
     "metadata": {},
     "output_type": "execute_result"
    }
   ],
   "source": [
    "f._remove_qc_rsd.shape"
   ]
  },
  {
   "cell_type": "code",
   "execution_count": 254,
   "metadata": {},
   "outputs": [
    {
     "data": {
      "text/html": [
       "<div>\n",
       "<style>\n",
       "    .dataframe thead tr:only-child th {\n",
       "        text-align: right;\n",
       "    }\n",
       "\n",
       "    .dataframe thead th {\n",
       "        text-align: left;\n",
       "    }\n",
       "\n",
       "    .dataframe tbody tr th {\n",
       "        vertical-align: top;\n",
       "    }\n",
       "</style>\n",
       "<table border=\"1\" class=\"dataframe\">\n",
       "  <thead>\n",
       "    <tr style=\"text-align: right;\">\n",
       "      <th></th>\n",
       "      <th></th>\n",
       "      <th>mean</th>\n",
       "      <th>median</th>\n",
       "      <th>std</th>\n",
       "      <th>rsd</th>\n",
       "    </tr>\n",
       "    <tr>\n",
       "      <th>Class</th>\n",
       "      <th>Feature</th>\n",
       "      <th></th>\n",
       "      <th></th>\n",
       "      <th></th>\n",
       "      <th></th>\n",
       "    </tr>\n",
       "  </thead>\n",
       "  <tbody>\n",
       "    <tr>\n",
       "      <th rowspan=\"5\" valign=\"top\">Blank</th>\n",
       "      <th>7</th>\n",
       "      <td>1362661.0</td>\n",
       "      <td>1362661.0</td>\n",
       "      <td>5.603114e+04</td>\n",
       "      <td>4.111891</td>\n",
       "    </tr>\n",
       "    <tr>\n",
       "      <th>8</th>\n",
       "      <td>1943053.5</td>\n",
       "      <td>1943053.5</td>\n",
       "      <td>7.376043e+04</td>\n",
       "      <td>3.796109</td>\n",
       "    </tr>\n",
       "    <tr>\n",
       "      <th>15</th>\n",
       "      <td>1696977.0</td>\n",
       "      <td>1696977.0</td>\n",
       "      <td>3.354090e+04</td>\n",
       "      <td>1.976509</td>\n",
       "    </tr>\n",
       "    <tr>\n",
       "      <th>16</th>\n",
       "      <td>2109665.0</td>\n",
       "      <td>2109665.0</td>\n",
       "      <td>2.409792e+05</td>\n",
       "      <td>11.422627</td>\n",
       "    </tr>\n",
       "    <tr>\n",
       "      <th>20</th>\n",
       "      <td>37179861.0</td>\n",
       "      <td>37179861.0</td>\n",
       "      <td>2.894587e+06</td>\n",
       "      <td>7.785362</td>\n",
       "    </tr>\n",
       "  </tbody>\n",
       "</table>\n",
       "</div>"
      ],
      "text/plain": [
       "                     mean      median           std        rsd\n",
       "Class Feature                                                 \n",
       "Blank 7         1362661.0   1362661.0  5.603114e+04   4.111891\n",
       "      8         1943053.5   1943053.5  7.376043e+04   3.796109\n",
       "      15        1696977.0   1696977.0  3.354090e+04   1.976509\n",
       "      16        2109665.0   2109665.0  2.409792e+05  11.422627\n",
       "      20       37179861.0  37179861.0  2.894587e+06   7.785362"
      ]
     },
     "execution_count": 254,
     "metadata": {},
     "output_type": "execute_result"
    }
   ],
   "source": [
    "f.summary_class_feature.dropna().head()"
   ]
  },
  {
   "cell_type": "markdown",
   "metadata": {},
   "source": [
    "# Median filter"
   ]
  },
  {
   "cell_type": "code",
   "execution_count": 298,
   "metadata": {
    "collapsed": true
   },
   "outputs": [],
   "source": [
    "reload(FRAMey)\n",
    "f = FRAMey.FRAMe(metab_f)"
   ]
  },
  {
   "cell_type": "code",
   "execution_count": 299,
   "metadata": {},
   "outputs": [
    {
     "data": {
      "text/html": [
       "<div>\n",
       "<style>\n",
       "    .dataframe thead tr:only-child th {\n",
       "        text-align: right;\n",
       "    }\n",
       "\n",
       "    .dataframe thead th {\n",
       "        text-align: left;\n",
       "    }\n",
       "\n",
       "    .dataframe tbody tr th {\n",
       "        vertical-align: top;\n",
       "    }\n",
       "</style>\n",
       "<table border=\"1\" class=\"dataframe\">\n",
       "  <thead>\n",
       "    <tr style=\"text-align: right;\">\n",
       "      <th></th>\n",
       "      <th>Blank_mean</th>\n",
       "      <th>Blank_std</th>\n",
       "      <th>Sample_median</th>\n",
       "      <th>y</th>\n",
       "      <th>loq_low</th>\n",
       "      <th>loq_high</th>\n",
       "      <th>median_ratio</th>\n",
       "    </tr>\n",
       "    <tr>\n",
       "      <th>Feature</th>\n",
       "      <th></th>\n",
       "      <th></th>\n",
       "      <th></th>\n",
       "      <th></th>\n",
       "      <th></th>\n",
       "      <th></th>\n",
       "      <th></th>\n",
       "    </tr>\n",
       "  </thead>\n",
       "  <tbody>\n",
       "    <tr>\n",
       "      <th>1000</th>\n",
       "      <td>13454393.0</td>\n",
       "      <td>5.560094e+05</td>\n",
       "      <td>13710386.5</td>\n",
       "      <td>1.512242e+07</td>\n",
       "      <td>1.512242e+08</td>\n",
       "      <td>7.561211e+08</td>\n",
       "      <td>0.906626</td>\n",
       "    </tr>\n",
       "    <tr>\n",
       "      <th>1003</th>\n",
       "      <td>4735801.0</td>\n",
       "      <td>2.760157e+06</td>\n",
       "      <td>3222670.5</td>\n",
       "      <td>1.301627e+07</td>\n",
       "      <td>1.301627e+08</td>\n",
       "      <td>6.508137e+08</td>\n",
       "      <td>0.247588</td>\n",
       "    </tr>\n",
       "  </tbody>\n",
       "</table>\n",
       "</div>"
      ],
      "text/plain": [
       "         Blank_mean     Blank_std  Sample_median             y       loq_low  \\\n",
       "Feature                                                                        \n",
       "1000     13454393.0  5.560094e+05     13710386.5  1.512242e+07  1.512242e+08   \n",
       "1003      4735801.0  2.760157e+06      3222670.5  1.301627e+07  1.301627e+08   \n",
       "\n",
       "             loq_high  median_ratio  \n",
       "Feature                              \n",
       "1000     7.561211e+08      0.906626  \n",
       "1003     6.508137e+08      0.247588  "
      ]
     },
     "execution_count": 299,
     "metadata": {},
     "output_type": "execute_result"
    }
   ],
   "source": [
    "f._median_check.loc[[1000,1003]]"
   ]
  },
  {
   "cell_type": "code",
   "execution_count": 300,
   "metadata": {},
   "outputs": [
    {
     "data": {
      "text/plain": [
       "(1093, 7)"
      ]
     },
     "execution_count": 300,
     "metadata": {},
     "output_type": "execute_result"
    }
   ],
   "source": [
    "f._remove_median_LOQ_low.shape"
   ]
  },
  {
   "cell_type": "code",
   "execution_count": 301,
   "metadata": {},
   "outputs": [
    {
     "data": {
      "text/plain": [
       "(1220, 7)"
      ]
     },
     "execution_count": 301,
     "metadata": {},
     "output_type": "execute_result"
    }
   ],
   "source": [
    "f._remove_median_LOQ_high.shape"
   ]
  },
  {
   "cell_type": "markdown",
   "metadata": {},
   "source": [
    "# output"
   ]
  },
  {
   "cell_type": "code",
   "execution_count": 222,
   "metadata": {},
   "outputs": [],
   "source": [
    "reload(FRAMey)\n",
    "\n",
    "from matplotlib.colors import LinearSegmentedColormap\n",
    "cmap = LinearSegmentedColormap.from_list('mymap', ['tab:blue','tab:orange'], N=2)\n",
    "f = FRAMey.FRAMe(metab_f,cmap=cmap)"
   ]
  },
  {
   "cell_type": "code",
   "execution_count": 180,
   "metadata": {},
   "outputs": [
    {
     "data": {
      "text/plain": [
       "(1601, 3)"
      ]
     },
     "execution_count": 180,
     "metadata": {},
     "output_type": "execute_result"
    }
   ],
   "source": [
    "t.query_frame(f._blank_contritribution).shape"
   ]
  },
  {
   "cell_type": "code",
   "execution_count": 140,
   "metadata": {
    "collapsed": true
   },
   "outputs": [],
   "source": [
    "f = FRAMey.FRAMe.from_input_csv('./FRAMe/demo Untargeted_HILIC_UPLC addl info test.csv', info_columns=infoColumns)"
   ]
  },
  {
   "cell_type": "code",
   "execution_count": 223,
   "metadata": {},
   "outputs": [
    {
     "data": {
      "image/png": "[encoded data removed]",
      "text/plain": [
       "<matplotlib.figure.Figure at 0x11c654210>"
      ]
     },
     "metadata": {},
     "output_type": "display_data"
    }
   ],
   "source": [
    "#f, a = plt.subplots(10,10)\n",
    "f.map_removed()"
   ]
  },
  {
   "cell_type": "code",
   "execution_count": 148,
   "metadata": {},
   "outputs": [
    {
     "data": {
      "text/plain": [
       "<matplotlib.collections.PolyCollection at 0x11c21aad0>"
      ]
     },
     "execution_count": 148,
     "metadata": {},
     "output_type": "execute_result"
    },
    {
     "data": {
      "image/png": "[encoded data removed]",
      "text/plain": [
       "<matplotlib.figure.Figure at 0x11c383b10>"
      ]
     },
     "metadata": {},
     "output_type": "display_data"
    }
   ],
   "source": [
    "x = f._blank_contritribution.percent.dropna().values\n",
    "\n",
    "fig, ax = plt.subplots(figsize=(4,4))\n",
    "sns.kdeplot(x, shade=True, bw='silverman',clip=(0, 200), gridsize=1000, color=cmap(1),ax=ax)\n",
    "\n",
    "b = f._thresholds['blank_contribution']\n",
    "ax.axvline(x=b, color=cmap(0))\n",
    "\n",
    "xx, yy = ax.lines[0].get_data()\n",
    "msk = xx < b\n",
    "plt.plot(xx[msk],yy[msk], color=cmap(0))\n",
    "plt.fill_between(xx[msk],0,yy[msk], color=cmap(0))\n"
   ]
  },
  {
   "cell_type": "code",
   "execution_count": 224,
   "metadata": {},
   "outputs": [
    {
     "data": {
      "text/plain": [
       "(1955, 3)"
      ]
     },
     "execution_count": 224,
     "metadata": {},
     "output_type": "execute_result"
    }
   ],
   "source": []
  },
  {
   "cell_type": "code",
   "execution_count": 74,
   "metadata": {
    "collapsed": true
   },
   "outputs": [],
   "source": [
    "from seaborn.distributions import _statsmodels_univariate_kde"
   ]
  },
  {
   "cell_type": "code",
   "execution_count": 76,
   "metadata": {
    "collapsed": true
   },
   "outputs": [],
   "source": [
    "sns.kdeplot\n"
   ]
  },
  {
   "cell_type": "code",
   "execution_count": 79,
   "metadata": {},
   "outputs": [
    {
     "data": {
      "text/plain": [
       "[<matplotlib.lines.Line2D at 0x11ef09f90>]"
      ]
     },
     "execution_count": 79,
     "metadata": {},
     "output_type": "execute_result"
    },
    {
     "data": {
      "image/png": "[encoded data removed]",
      "text/plain": [
       "<matplotlib.figure.Figure at 0x11ced0150>"
      ]
     },
     "metadata": {},
     "output_type": "display_data"
    }
   ],
   "source": [
    "x = f._blank_contritribution.dropna().values\n",
    "x = x[x<250]\n",
    "xx, yy = _statsmodels_univariate_kde(x, kernel='gau', bw='silverman', gridsize=1000, cut=3, clip=(-np.inf, np.inf))\n",
    "\n",
    "plt.plot(xx, yy)"
   ]
  },
  {
   "cell_type": "code",
   "execution_count": 139,
   "metadata": {},
   "outputs": [
    {
     "data": {
      "text/plain": [
       "<matplotlib.lines.Line2D at 0x11bde6f50>"
      ]
     },
     "execution_count": 139,
     "metadata": {},
     "output_type": "execute_result"
    },
    {
     "data": {
      "image/png": "[encoded data removed]",
      "text/plain": [
       "<matplotlib.figure.Figure at 0x11bde6850>"
      ]
     },
     "metadata": {},
     "output_type": "display_data"
    }
   ],
   "source": [
    "x = blank_contribution.percent.dropna().values\n",
    "x = x[x < 250]\n",
    "\n",
    "sns.kdeplot(x, shade=True, bw='silverman')#, kernel='gau', bw='silverman', gridsize=10000), #gridsize=10000)\n",
    "#plt.xlim(0,250)\n",
    "ax = plt.gca()\n",
    "\n",
    "ax.axvline(x=ThresholdBlankContribution)"
   ]
  },
  {
   "cell_type": "code",
   "execution_count": 97,
   "metadata": {
    "collapsed": true
   },
   "outputs": [],
   "source": [
    "#QC count"
   ]
  },
  {
   "cell_type": "code",
   "execution_count": 91,
   "metadata": {},
   "outputs": [
    {
     "data": {
      "text/plain": [
       "<matplotlib.axes._subplots.AxesSubplot at 0x11ce3a210>"
      ]
     },
     "execution_count": 91,
     "metadata": {},
     "output_type": "execute_result"
    },
    {
     "data": {
      "image/png": "[encoded data removed]",
      "text/plain": [
       "<matplotlib.figure.Figure at 0x11b11ca90>"
      ]
     },
     "metadata": {},
     "output_type": "display_data"
    }
   ],
   "source": [
    "sns.kdeplot(QC_count.CountFreq.dropna().values, shade=True, kernel='gau', gridsize=10000)#kernel='gau', bw='silverman', gridsize=1000)"
   ]
  },
  {
   "cell_type": "code",
   "execution_count": 98,
   "metadata": {},
   "outputs": [
    {
     "data": {
      "image/png": "[encoded data removed]",
      "text/plain": [
       "<matplotlib.figure.Figure at 0x11e351d50>"
      ]
     },
     "metadata": {},
     "output_type": "display_data"
    }
   ],
   "source": [
    "_ = plt.hist(QC_count.CountFreq.dropna().values, 50)"
   ]
  },
  {
   "cell_type": "code",
   "execution_count": 99,
   "metadata": {
    "collapsed": true
   },
   "outputs": [],
   "source": [
    "# QC rsd"
   ]
  },
  {
   "cell_type": "code",
   "execution_count": 106,
   "metadata": {},
   "outputs": [
    {
     "data": {
      "text/plain": [
       "<matplotlib.lines.Line2D at 0x11ee43e50>"
      ]
     },
     "execution_count": 106,
     "metadata": {},
     "output_type": "execute_result"
    },
    {
     "data": {
      "image/png": "[encoded data removed]",
      "text/plain": [
       "<matplotlib.figure.Figure at 0x11ee4d7d0>"
      ]
     },
     "metadata": {},
     "output_type": "display_data"
    }
   ],
   "source": [
    "sns.kdeplot(QC_RSD.rsd.dropna().values, shade=True, kernel='gau', bw='silverman', gridsize=10000)\n",
    "plt.xlim(None, 100)\n",
    "plt.axvline(x=ThresholdQCrsd)"
   ]
  },
  {
   "cell_type": "code",
   "execution_count": 111,
   "metadata": {
    "collapsed": true
   },
   "outputs": [],
   "source": [
    "# Sample Count"
   ]
  },
  {
   "cell_type": "code",
   "execution_count": 110,
   "metadata": {},
   "outputs": [
    {
     "data": {
      "text/plain": [
       "(15.385916253915472, 100)"
      ]
     },
     "execution_count": 110,
     "metadata": {},
     "output_type": "execute_result"
    },
    {
     "data": {
      "image/png": "[encoded data removed]",
      "text/plain": [
       "<matplotlib.figure.Figure at 0x11f4f25d0>"
      ]
     },
     "metadata": {},
     "output_type": "display_data"
    }
   ],
   "source": [
    "sns.kdeplot(sample_count.CountFreq.dropna().values, shade=True)\n",
    "plt.axvline(x=ThresholdSAMPLECountFrequency)\n",
    "plt.xlim(None, 100)"
   ]
  },
  {
   "cell_type": "code",
   "execution_count": null,
   "metadata": {
    "collapsed": true
   },
   "outputs": [],
   "source": [
    "# low variability"
   ]
  },
  {
   "cell_type": "code",
   "execution_count": 136,
   "metadata": {},
   "outputs": [
    {
     "data": {
      "text/plain": [
       "(0, 400)"
      ]
     },
     "execution_count": 136,
     "metadata": {},
     "output_type": "execute_result"
    },
    {
     "data": {
      "image/png": "[encoded data removed]",
      "text/plain": [
       "<matplotlib.figure.Figure at 0x11bbf0190>"
      ]
     },
     "metadata": {},
     "output_type": "display_data"
    }
   ],
   "source": [
    "x = low_variability.percent.dropna().values\n",
    "x = x[x < 400]\n",
    "sns.kdeplot(x, shade=True, bw='silverman', kernel='gau', gridsize=100)\n",
    "plt.axvline(ThresholdRSDratios)\n",
    "plt.xlim(0, 400)"
   ]
  },
  {
   "cell_type": "code",
   "execution_count": null,
   "metadata": {
    "collapsed": true
   },
   "outputs": [],
   "source": []
  }
 ],
 "metadata": {
  "kernelspec": {
   "display_name": "Python [conda root]",
   "language": "python",
   "name": "conda-root-py"
  },
  "language_info": {
   "codemirror_mode": {
    "name": "ipython",
    "version": 2
   },
   "file_extension": ".py",
   "mimetype": "text/x-python",
   "name": "python",
   "nbconvert_exporter": "python",
   "pygments_lexer": "ipython2",
   "version": "2.7.13"
  },
  "toc": {
   "colors": {
    "hover_highlight": "#DAA520",
    "running_highlight": "#FF0000",
    "selected_highlight": "#FFD700"
   },
   "moveMenuLeft": true,
   "nav_menu": {
    "height": "120px",
    "width": "252px"
   },
   "navigate_menu": true,
   "number_sections": true,
   "sideBar": true,
   "threshold": 4,
   "toc_cell": false,
   "toc_section_display": "block",
   "toc_window_display": false,
   "widenNotebook": false
  }
 },
 "nbformat": 4,
 "nbformat_minor": 2
}
